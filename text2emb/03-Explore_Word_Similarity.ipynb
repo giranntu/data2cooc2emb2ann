{
 "cells": [
  {
   "cell_type": "markdown",
   "metadata": {},
   "source": [
    "# Explore Words Similarity with Embeddings\n",
    "\n",
    "This tutorial explores the word similarities with respect to the learnt embeddings.\n",
    "\n",
    "The following are the steps of this tutorial:\n",
    "\n",
    "1. Implement Cosine similarity function\n",
    "2. Load learnt word embeddings\n",
    "3. Get top similar words given a word\n",
    "\n",
    "\n",
    "<a href=\"https://colab.research.google.com/github/ksalama/data2cooc2emb2ann/blob/master/text2emb/03-Explore_Word_Similarity.ipynb\" target=\"_parent\"><img src=\"https://colab.research.google.com/assets/colab-badge.svg\" alt=\"Open In Colab\"/></a>"
   ]
  },
  {
   "cell_type": "markdown",
   "metadata": {},
   "source": [
    "## Setup"
   ]
  },
  {
   "cell_type": "code",
   "execution_count": null,
   "metadata": {},
   "outputs": [],
   "source": [
    "import os\n",
    "import numpy as np"
   ]
  },
  {
   "cell_type": "code",
   "execution_count": null,
   "metadata": {},
   "outputs": [],
   "source": [
    "WORKSPACE = './workspace'\n",
    "embeddings_file_path = os.path.join(WORKSPACE,'embeddings.tsv')"
   ]
  },
  {
   "cell_type": "markdown",
   "metadata": {},
   "source": [
    "## 1. Consine Similarity Function"
   ]
  },
  {
   "cell_type": "code",
   "execution_count": null,
   "metadata": {},
   "outputs": [],
   "source": [
    "def calculate_consine_similarty(emb1, emb2):\n",
    "    return np.dot(emb1, emb2)/(np.linalg.norm(emb1) * np.linalg.norm(emb2))\n",
    "    "
   ]
  },
  {
   "cell_type": "markdown",
   "metadata": {},
   "source": [
    "## 2. Load Embeddings"
   ]
  },
  {
   "cell_type": "code",
   "execution_count": null,
   "metadata": {},
   "outputs": [],
   "source": [
    "def load_embeddings(embedding_file_path):\n",
    "    embedding_lookup = {}\n",
    "    with open(embeddings_file_path) as embedding_file:\n",
    "        while True:\n",
    "            line = embedding_file.readline()\n",
    "            if not line: break\n",
    "                \n",
    "            parts = line.split('\\t')\n",
    "            word = parts[0]\n",
    "            embedding = [float(v) for v in parts[1:]]\n",
    "            embedding_lookup[word] = embedding\n",
    "    return embedding_lookup\n",
    "            \n",
    "        "
   ]
  },
  {
   "cell_type": "code",
   "execution_count": null,
   "metadata": {},
   "outputs": [],
   "source": [
    "embedding_lookup = load_embeddings(embeddings_file_path)\n",
    "len(embedding_lookup)"
   ]
  },
  {
   "cell_type": "markdown",
   "metadata": {},
   "source": [
    "## 3. Get Top Similar Words"
   ]
  },
  {
   "cell_type": "code",
   "execution_count": null,
   "metadata": {},
   "outputs": [],
   "source": [
    "from bisect import insort\n",
    "\n",
    "def top_similar(word, k):\n",
    "    outputs = []\n",
    "    \n",
    "    input_word_embedding = embedding_lookup[word.lower()]\n",
    "    for word in embedding_lookup:\n",
    "        embedding = embedding_lookup[word]\n",
    "        similarity = calculate_consine_similarty(input_word_embedding, embedding)\n",
    "        insort(outputs, (round(similarity, 3), word))\n",
    "\n",
    "    return sorted(outputs, reverse=True)[:k]\n",
    "    "
   ]
  },
  {
   "cell_type": "code",
   "execution_count": null,
   "metadata": {},
   "outputs": [],
   "source": [
    "word = 'king'\n",
    "top_similar(word, 15)"
   ]
  },
  {
   "cell_type": "code",
   "execution_count": null,
   "metadata": {},
   "outputs": [],
   "source": []
  }
 ],
 "metadata": {
  "kernelspec": {
   "display_name": "Python 3",
   "language": "python",
   "name": "python3"
  },
  "language_info": {
   "codemirror_mode": {
    "name": "ipython",
    "version": 3
   },
   "file_extension": ".py",
   "mimetype": "text/x-python",
   "name": "python",
   "nbconvert_exporter": "python",
   "pygments_lexer": "ipython3",
   "version": "3.6.4"
  }
 },
 "nbformat": 4,
 "nbformat_minor": 2
}
