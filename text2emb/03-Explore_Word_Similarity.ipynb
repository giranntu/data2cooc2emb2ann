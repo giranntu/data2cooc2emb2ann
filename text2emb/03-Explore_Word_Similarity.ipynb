{
 "cells": [
  {
   "cell_type": "markdown",
   "metadata": {},
   "source": [
    "# Explore Words Similarity with Embeddings"
   ]
  },
  {
   "cell_type": "code",
   "execution_count": null,
   "metadata": {},
   "outputs": [],
   "source": []
  },
  {
   "cell_type": "markdown",
   "metadata": {},
   "source": [
    "## Setup"
   ]
  },
  {
   "cell_type": "code",
   "execution_count": 9,
   "metadata": {},
   "outputs": [],
   "source": [
    "import os\n",
    "import numpy as np"
   ]
  },
  {
   "cell_type": "code",
   "execution_count": 10,
   "metadata": {},
   "outputs": [],
   "source": [
    "WORKSPACE = './workspace'\n",
    "embeddings_file_path = os.path.join(WORKSPACE,'embeddings.tsv')\n",
    "index_file_path = os.path.join(WORKSPACE,'embed-ann.index')"
   ]
  },
  {
   "cell_type": "markdown",
   "metadata": {},
   "source": [
    "## 1. Similarity Function"
   ]
  },
  {
   "cell_type": "code",
   "execution_count": 66,
   "metadata": {},
   "outputs": [],
   "source": [
    "def calculate_consine_similarty(emb1, emb2):\n",
    "    return np.dot(emb1, emb2)/(np.linalg.norm(emb1) * np.linalg.norm(emb2))\n",
    "    "
   ]
  },
  {
   "cell_type": "markdown",
   "metadata": {},
   "source": [
    "## 2. Load Embeddings"
   ]
  },
  {
   "cell_type": "code",
   "execution_count": 67,
   "metadata": {},
   "outputs": [],
   "source": [
    "def load_embeddings(embedding_file_path):\n",
    "    embedding_lookup = {}\n",
    "    with open(embeddings_file_path) as embedding_file:\n",
    "        while True:\n",
    "            line = embedding_file.readline()\n",
    "            if not line: break\n",
    "                \n",
    "            parts = line.split('\\t')\n",
    "            word = parts[0]\n",
    "            embedding = [float(v) for v in parts[1:]]\n",
    "            embedding_lookup[word] = embedding\n",
    "    return embedding_lookup\n",
    "            \n",
    "        "
   ]
  },
  {
   "cell_type": "code",
   "execution_count": 68,
   "metadata": {},
   "outputs": [
    {
     "data": {
      "text/plain": [
       "4618"
      ]
     },
     "execution_count": 68,
     "metadata": {},
     "output_type": "execute_result"
    }
   ],
   "source": [
    "embedding_lookup = load_embeddings(embeddings_file_path)\n",
    "len(embedding_lookup)"
   ]
  },
  {
   "cell_type": "markdown",
   "metadata": {},
   "source": [
    "## 3. Get top similar words"
   ]
  },
  {
   "cell_type": "code",
   "execution_count": 69,
   "metadata": {},
   "outputs": [],
   "source": [
    "from bisect import insort\n",
    "\n",
    "def top_similar(word, k):\n",
    "    outputs = []\n",
    "    \n",
    "    input_word_embedding = embedding_lookup[word.lower()]\n",
    "    for word in embedding_lookup:\n",
    "        embedding = embedding_lookup[word]\n",
    "        similarity = calculate_consine_similarty(input_word_embedding, embedding)\n",
    "        insort(outputs, (similarity, word))\n",
    "\n",
    "    return sorted(outputs, reverse=True)[:k]\n",
    "    "
   ]
  },
  {
   "cell_type": "code",
   "execution_count": 78,
   "metadata": {},
   "outputs": [
    {
     "data": {
      "text/plain": [
       "[(1.0, 'king'),\n",
       " (0.4778072240400091, 'judah'),\n",
       " (0.4692095892725038, 'saying'),\n",
       " (0.43612269988519925, 'son'),\n",
       " (0.4358324544812592, 'went'),\n",
       " (0.43537897702967954, 'lord'),\n",
       " (0.42042494116771106, 'him'),\n",
       " (0.4204041092515079, 'men'),\n",
       " (0.4152552449098259, 'unto'),\n",
       " (0.40475038561214477, 'israel'),\n",
       " (0.4041881388350648, 'added'),\n",
       " (0.39528777470274484, 'sent'),\n",
       " (0.39497872833724684, 'thus'),\n",
       " (0.39201217758599044, 'hand'),\n",
       " (0.3838387243464861, 'pass')]"
      ]
     },
     "execution_count": 78,
     "metadata": {},
     "output_type": "execute_result"
    }
   ],
   "source": [
    "word = 'king'\n",
    "result = top_similar(word, 15)\n",
    "result"
   ]
  },
  {
   "cell_type": "code",
   "execution_count": null,
   "metadata": {},
   "outputs": [],
   "source": []
  },
  {
   "cell_type": "code",
   "execution_count": null,
   "metadata": {},
   "outputs": [],
   "source": []
  }
 ],
 "metadata": {
  "kernelspec": {
   "display_name": "Python 3",
   "language": "python",
   "name": "python3"
  },
  "language_info": {
   "codemirror_mode": {
    "name": "ipython",
    "version": 3
   },
   "file_extension": ".py",
   "mimetype": "text/x-python",
   "name": "python",
   "nbconvert_exporter": "python",
   "pygments_lexer": "ipython3",
   "version": "3.6.4"
  }
 },
 "nbformat": 4,
 "nbformat_minor": 2
}
