{
 "cells": [
  {
   "cell_type": "markdown",
   "metadata": {},
   "source": [
    "# Building an Approximate Nearest Neighbours Index\n",
    "\n",
    "This tutorial shows how to build an approximate nearest neighbours (ann) index for a given set of embeddings.\n",
    "\n",
    "We use the Spotify [ANNOY](https://github.com/spotify/annoy) library for this task.\n",
    "\n",
    "The following are the steps of this tutorial:\n",
    "1. Build the annoy index given the embeddings saved in the TSV file\n",
    "2. Get track information from BigQuery\n",
    "3. Use the index to find similar tracks to a given one\n",
    "\n",
    "<a href=\"https://colab.research.google.com/github.com/ksalama/data2cooc2emb2ann/blob/master/track2ann/03-Building_an_Approximate_Nearest_Neighbours_Index.ipynb\" target=\"_parent\"><img src=\"https://colab.research.google.com/assets/colab-badge.svg\" alt=\"Open In Colab\"/></a>"
   ]
  },
  {
   "cell_type": "markdown",
   "metadata": {},
   "source": [
    "### Setup"
   ]
  },
  {
   "cell_type": "code",
   "execution_count": null,
   "metadata": {},
   "outputs": [],
   "source": [
    "# !pip install -r ../requirements.txt"
   ]
  },
  {
   "cell_type": "code",
   "execution_count": 1,
   "metadata": {},
   "outputs": [],
   "source": [
    "# If using COLAB\n",
    "try:\n",
    "    from google.colab import auth\n",
    "    auth.authenticate_user()\n",
    "except: pass"
   ]
  },
  {
   "cell_type": "code",
   "execution_count": 2,
   "metadata": {},
   "outputs": [],
   "source": [
    "import os\n",
    "from annoy import AnnoyIndex\n",
    "from datetime import datetime\n",
    "from google.cloud import bigquery"
   ]
  },
  {
   "cell_type": "code",
   "execution_count": 3,
   "metadata": {},
   "outputs": [],
   "source": [
    "PROJECT_ID = 'ksalama-cloudml'\n",
    "WORKSPACE = './workspace'\n",
    "embeddings_file_path = os.path.join(WORKSPACE,'embeddings.tsv')\n",
    "index_file_path = os.path.join(WORKSPACE,'embed-ann.index')"
   ]
  },
  {
   "cell_type": "markdown",
   "metadata": {},
   "source": [
    "## 1. Build Annoy Index"
   ]
  },
  {
   "cell_type": "code",
   "execution_count": 4,
   "metadata": {},
   "outputs": [],
   "source": [
    "def build_embeddings_index(embeddings_file, embedding_size, num_trees):\n",
    "    annoy_index = AnnoyIndex(embedding_size, metric='angular')\n",
    "    idx2item_mapping = dict()\n",
    "    item2idx_mapping = dict()\n",
    "    \n",
    "    idx = 0\n",
    "    \n",
    "    with open(embeddings_file_path) as embedding_file:\n",
    "        while True:\n",
    "            line = embedding_file.readline()\n",
    "            if not line: break\n",
    "                \n",
    "            parts = line.split('\\t')\n",
    "            item_id = parts[0]\n",
    "            embedding = [float(v) for v in parts[1:]]\n",
    "            \n",
    "            idx2item_mapping[idx] = item_id\n",
    "            item2idx_mapping[item_id] = idx\n",
    "\n",
    "            annoy_index.add_item(idx, embedding)\n",
    "            idx+=1\n",
    "        \n",
    "    print(\"{} items where added to the index\".format(idx))\n",
    "    annoy_index.build(n_trees=num_trees)\n",
    "    print(\"Index is built\")\n",
    "    return annoy_index, idx2item_mapping, item2idx_mapping\n"
   ]
  },
  {
   "cell_type": "code",
   "execution_count": 5,
   "metadata": {},
   "outputs": [
    {
     "name": "stdout",
     "output_type": "stream",
     "text": [
      "39195 items where added to the index\n",
      "Index is built\n"
     ]
    }
   ],
   "source": [
    "num_trees = 1000\n",
    "embedding_size = 32\n",
    "\n",
    "index, idx2item_mapping,  item2idx_mapping = build_embeddings_index(\n",
    "    embeddings_file_path, embedding_size, num_trees)"
   ]
  },
  {
   "cell_type": "markdown",
   "metadata": {},
   "source": [
    "## 2. Get tracks info from BigQuery"
   ]
  },
  {
   "cell_type": "code",
   "execution_count": 6,
   "metadata": {},
   "outputs": [],
   "source": [
    "track_ids = \",\".join(list(item2idx_mapping.keys()))\n",
    "\n",
    "query = '''\n",
    "    SELECT DISTINCT\n",
    "      tracks_data_id AS track_id,\n",
    "      tracks_data_title AS track_title, \n",
    "      tracks_data_artist_name AS artist_name, \n",
    "      tracks_data_album_title AS album_title \n",
    "    FROM \n",
    "      `bigquery-samples.playlists.playlist`\n",
    "    WHERE\n",
    "        tracks_data_id IN ({})\n",
    "'''.format(track_ids)"
   ]
  },
  {
   "cell_type": "code",
   "execution_count": 7,
   "metadata": {},
   "outputs": [
    {
     "name": "stderr",
     "output_type": "stream",
     "text": [
      "/Users/khalidsalama/Technology/GoogleCloud/GCP-Github/kfp-components/google/tf_hub/tabular2cooc/venv/lib/python3.6/site-packages/google/auth/_default.py:66: UserWarning: Your application has authenticated using end user credentials from Google Cloud SDK. We recommend that most server applications use service accounts instead. If your application continues to use end user credentials from Cloud SDK, you might receive a \"quota exceeded\" or \"API not enabled\" error. For more information about service accounts, see https://cloud.google.com/docs/authentication/\n",
      "  warnings.warn(_CLOUD_SDK_CREDENTIALS_WARNING)\n"
     ]
    },
    {
     "data": {
      "text/html": [
       "<div>\n",
       "<style scoped>\n",
       "    .dataframe tbody tr th:only-of-type {\n",
       "        vertical-align: middle;\n",
       "    }\n",
       "\n",
       "    .dataframe tbody tr th {\n",
       "        vertical-align: top;\n",
       "    }\n",
       "\n",
       "    .dataframe thead th {\n",
       "        text-align: right;\n",
       "    }\n",
       "</style>\n",
       "<table border=\"1\" class=\"dataframe\">\n",
       "  <thead>\n",
       "    <tr style=\"text-align: right;\">\n",
       "      <th></th>\n",
       "      <th>track_id</th>\n",
       "      <th>track_title</th>\n",
       "      <th>artist_name</th>\n",
       "      <th>album_title</th>\n",
       "    </tr>\n",
       "  </thead>\n",
       "  <tbody>\n",
       "    <tr>\n",
       "      <td>0</td>\n",
       "      <td>3637082</td>\n",
       "      <td>He's Got The Whole World In His Hands</td>\n",
       "      <td></td>\n",
       "      <td>Lady Blue Part 1</td>\n",
       "    </tr>\n",
       "    <tr>\n",
       "      <td>1</td>\n",
       "      <td>250011</td>\n",
       "      <td>L'amour dans la rue</td>\n",
       "      <td>K</td>\n",
       "      <td>L'arbre rouge</td>\n",
       "    </tr>\n",
       "    <tr>\n",
       "      <td>2</td>\n",
       "      <td>5447851</td>\n",
       "      <td>Est-Ce Que C'est Ça</td>\n",
       "      <td>M</td>\n",
       "      <td>Mister Mystère</td>\n",
       "    </tr>\n",
       "    <tr>\n",
       "      <td>3</td>\n",
       "      <td>5447858</td>\n",
       "      <td>Amssétou</td>\n",
       "      <td>M</td>\n",
       "      <td>Mister Mystère</td>\n",
       "    </tr>\n",
       "    <tr>\n",
       "      <td>4</td>\n",
       "      <td>3355751</td>\n",
       "      <td>Le blues de soustons (live)</td>\n",
       "      <td>M</td>\n",
       "      <td>le tour de m</td>\n",
       "    </tr>\n",
       "  </tbody>\n",
       "</table>\n",
       "</div>"
      ],
      "text/plain": [
       "   track_id                            track_title artist_name  \\\n",
       "0   3637082  He's Got The Whole World In His Hands               \n",
       "1    250011                    L'amour dans la rue           K   \n",
       "2   5447851                    Est-Ce Que C'est Ça           M   \n",
       "3   5447858                               Amssétou           M   \n",
       "4   3355751            Le blues de soustons (live)           M   \n",
       "\n",
       "        album_title  \n",
       "0  Lady Blue Part 1  \n",
       "1     L'arbre rouge  \n",
       "2    Mister Mystère  \n",
       "3    Mister Mystère  \n",
       "4      le tour de m  "
      ]
     },
     "metadata": {},
     "output_type": "display_data"
    }
   ],
   "source": [
    "bq_client = bigquery.Client(project=PROJECT_ID)\n",
    "query_job = bq_client.query(query)\n",
    "results = query_job.result().to_dataframe()\n",
    "display(results.head())"
   ]
  },
  {
   "cell_type": "markdown",
   "metadata": {},
   "source": [
    "## 3. Find similar items"
   ]
  },
  {
   "cell_type": "code",
   "execution_count": 8,
   "metadata": {},
   "outputs": [],
   "source": [
    "def get_similar_items(item_id, num_matches=10):\n",
    "    \n",
    "    idx = item2idx_mapping[item_id]\n",
    "    \n",
    "    similar_idx = index.get_nns_by_item(\n",
    "        idx, num_matches, search_k=-1, include_distances=False)\n",
    "    \n",
    "    similar_item_ids = []\n",
    "    for idx in similar_idx:\n",
    "        similar_item_ids.append(idx2item_mapping[idx])\n",
    "    \n",
    "    similar_items = results[results['track_id'].isin(similar_item_ids)]#.track_title\n",
    "    return similar_items"
   ]
  },
  {
   "cell_type": "code",
   "execution_count": 12,
   "metadata": {},
   "outputs": [
    {
     "data": {
      "text/html": [
       "<div>\n",
       "<style scoped>\n",
       "    .dataframe tbody tr th:only-of-type {\n",
       "        vertical-align: middle;\n",
       "    }\n",
       "\n",
       "    .dataframe tbody tr th {\n",
       "        vertical-align: top;\n",
       "    }\n",
       "\n",
       "    .dataframe thead th {\n",
       "        text-align: right;\n",
       "    }\n",
       "</style>\n",
       "<table border=\"1\" class=\"dataframe\">\n",
       "  <thead>\n",
       "    <tr style=\"text-align: right;\">\n",
       "      <th></th>\n",
       "      <th>track_id</th>\n",
       "      <th>track_title</th>\n",
       "      <th>artist_name</th>\n",
       "      <th>album_title</th>\n",
       "    </tr>\n",
       "  </thead>\n",
       "  <tbody>\n",
       "    <tr>\n",
       "      <td>3</td>\n",
       "      <td>5447858</td>\n",
       "      <td>Amssétou</td>\n",
       "      <td>M</td>\n",
       "      <td>Mister Mystère</td>\n",
       "    </tr>\n",
       "    <tr>\n",
       "      <td>2284</td>\n",
       "      <td>921719</td>\n",
       "      <td>In Our Lifetime</td>\n",
       "      <td>Texas</td>\n",
       "      <td>The Hush</td>\n",
       "    </tr>\n",
       "    <tr>\n",
       "      <td>8364</td>\n",
       "      <td>351817</td>\n",
       "      <td>Get A Move On</td>\n",
       "      <td>Mr. Scruff</td>\n",
       "      <td>Keep It Unreal</td>\n",
       "    </tr>\n",
       "    <tr>\n",
       "      <td>19425</td>\n",
       "      <td>552440</td>\n",
       "      <td>We Were Born to Fly</td>\n",
       "      <td>Scorpions</td>\n",
       "      <td>Humanity - Hour I</td>\n",
       "    </tr>\n",
       "    <tr>\n",
       "      <td>26034</td>\n",
       "      <td>206607</td>\n",
       "      <td>Grand-père</td>\n",
       "      <td>La Tordue</td>\n",
       "      <td>Le vent t'invite</td>\n",
       "    </tr>\n",
       "    <tr>\n",
       "      <td>27710</td>\n",
       "      <td>911663</td>\n",
       "      <td>Les Champs-Elysees</td>\n",
       "      <td>Joe Dassin</td>\n",
       "      <td>The Darjeeling Limited (Original Soundtrack)</td>\n",
       "    </tr>\n",
       "    <tr>\n",
       "      <td>27920</td>\n",
       "      <td>3113793</td>\n",
       "      <td>Noche De Accion</td>\n",
       "      <td>Mano Negra</td>\n",
       "      <td>Puta's Fever / Patchanka</td>\n",
       "    </tr>\n",
       "    <tr>\n",
       "      <td>29438</td>\n",
       "      <td>677141</td>\n",
       "      <td>Enth E Nd</td>\n",
       "      <td>Linkin Park</td>\n",
       "      <td>Reanimation (Int'l Only DMD w/ Altered iLiner)</td>\n",
       "    </tr>\n",
       "    <tr>\n",
       "      <td>30325</td>\n",
       "      <td>542379</td>\n",
       "      <td>Legalize It (Album Version)</td>\n",
       "      <td>Cypress Hill</td>\n",
       "      <td>Collections</td>\n",
       "    </tr>\n",
       "    <tr>\n",
       "      <td>33799</td>\n",
       "      <td>4289754</td>\n",
       "      <td>Keep On Running</td>\n",
       "      <td>Robert Francis</td>\n",
       "      <td>Before Nightfall</td>\n",
       "    </tr>\n",
       "  </tbody>\n",
       "</table>\n",
       "</div>"
      ],
      "text/plain": [
       "       track_id                  track_title     artist_name  \\\n",
       "3       5447858                     Amssétou               M   \n",
       "2284     921719              In Our Lifetime           Texas   \n",
       "8364     351817                Get A Move On      Mr. Scruff   \n",
       "19425    552440          We Were Born to Fly       Scorpions   \n",
       "26034    206607                   Grand-père       La Tordue   \n",
       "27710    911663           Les Champs-Elysees      Joe Dassin   \n",
       "27920   3113793              Noche De Accion      Mano Negra   \n",
       "29438    677141                    Enth E Nd     Linkin Park   \n",
       "30325    542379  Legalize It (Album Version)    Cypress Hill   \n",
       "33799   4289754              Keep On Running  Robert Francis   \n",
       "\n",
       "                                          album_title  \n",
       "3                                      Mister Mystère  \n",
       "2284                                         The Hush  \n",
       "8364                                   Keep It Unreal  \n",
       "19425                               Humanity - Hour I  \n",
       "26034                                Le vent t'invite  \n",
       "27710    The Darjeeling Limited (Original Soundtrack)  \n",
       "27920                        Puta's Fever / Patchanka  \n",
       "29438  Reanimation (Int'l Only DMD w/ Altered iLiner)  \n",
       "30325                                     Collections  \n",
       "33799                                Before Nightfall  "
      ]
     },
     "execution_count": 12,
     "metadata": {},
     "output_type": "execute_result"
    }
   ],
   "source": [
    "get_similar_items('5447858')"
   ]
  },
  {
   "cell_type": "code",
   "execution_count": null,
   "metadata": {},
   "outputs": [],
   "source": []
  }
 ],
 "metadata": {
  "kernelspec": {
   "display_name": "Python 3",
   "language": "python",
   "name": "python3"
  },
  "language_info": {
   "codemirror_mode": {
    "name": "ipython",
    "version": 3
   },
   "file_extension": ".py",
   "mimetype": "text/x-python",
   "name": "python",
   "nbconvert_exporter": "python",
   "pygments_lexer": "ipython3",
   "version": "3.6.4"
  }
 },
 "nbformat": 4,
 "nbformat_minor": 2
}
