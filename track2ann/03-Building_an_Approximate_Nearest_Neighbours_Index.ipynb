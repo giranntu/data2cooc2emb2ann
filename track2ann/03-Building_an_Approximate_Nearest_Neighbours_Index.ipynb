{
 "cells": [
  {
   "cell_type": "markdown",
   "metadata": {},
   "source": [
    "# Building an Approximate Nearest Neighbours Index\n",
    "\n",
    "This tutorial shows how to build an approximate nearest neighbours (ann) index for a given set of embeddings.\n",
    "\n",
    "We use the Spotify [ANNOY](https://github.com/spotify/annoy) library for this task.\n",
    "\n",
    "The following are the steps of this tutorial:\n",
    "1. Build the annoy index given the embeddings saved in the TSV file\n",
    "2. Get track information from BigQuery\n",
    "3. Use the index to find similar tracks to a given one\n",
    "\n",
    "<a href=\"https://colab.research.google.com/github.com/ksalama/data2cooc2emb2ann/blob/master/track2ann/03-Building_an_Approximate_Nearest_Neighbours_Index.ipynb\" target=\"_parent\"><img src=\"https://colab.research.google.com/assets/colab-badge.svg\" alt=\"Open In Colab\"/></a>"
   ]
  },
  {
   "cell_type": "markdown",
   "metadata": {},
   "source": [
    "### Setup"
   ]
  },
  {
   "cell_type": "code",
   "execution_count": null,
   "metadata": {},
   "outputs": [],
   "source": [
    "# !pip install -r ../requirements.txt"
   ]
  },
  {
   "cell_type": "code",
   "execution_count": 1,
   "metadata": {},
   "outputs": [],
   "source": [
    "# If using COLAB\n",
    "try:\n",
    "    from google.colab import auth\n",
    "    auth.authenticate_user()\n",
    "except: pass"
   ]
  },
  {
   "cell_type": "code",
   "execution_count": 2,
   "metadata": {},
   "outputs": [],
   "source": [
    "import os\n",
    "from annoy import AnnoyIndex\n",
    "from datetime import datetime\n",
    "from google.cloud import bigquery"
   ]
  },
  {
   "cell_type": "code",
   "execution_count": 3,
   "metadata": {},
   "outputs": [],
   "source": [
    "PROJECT_ID = 'ksalama-cloudml'\n",
    "WORKSPACE = './workspace'\n",
    "embeddings_file_path = os.path.join(WORKSPACE,'embeddings.tsv')\n",
    "index_file_path = os.path.join(WORKSPACE,'embed-ann.index')"
   ]
  },
  {
   "cell_type": "markdown",
   "metadata": {},
   "source": [
    "## 1. Build Annoy Index"
   ]
  },
  {
   "cell_type": "code",
   "execution_count": 4,
   "metadata": {},
   "outputs": [],
   "source": [
    "def build_embeddings_index(embeddings_file, embedding_size, num_trees):\n",
    "    annoy_index = AnnoyIndex(embedding_size, metric='angular')\n",
    "    idx2item_mapping = dict()\n",
    "    item2idx_mapping = dict()\n",
    "    \n",
    "    idx = 0\n",
    "    \n",
    "    with open(embeddings_file_path) as embedding_file:\n",
    "        while True:\n",
    "            line = embedding_file.readline()\n",
    "            if not line: break\n",
    "                \n",
    "            parts = line.split('\\t')\n",
    "            item_id = parts[0]\n",
    "            embedding = [float(v) for v in parts[1:]]\n",
    "            \n",
    "            idx2item_mapping[idx] = item_id\n",
    "            item2idx_mapping[item_id] = idx\n",
    "\n",
    "            annoy_index.add_item(idx, embedding)\n",
    "            idx+=1\n",
    "        \n",
    "    print(\"{} items where added to the index\".format(idx))\n",
    "    annoy_index.build(n_trees=num_trees)\n",
    "    print(\"Index is built\")\n",
    "    return annoy_index, idx2item_mapping, item2idx_mapping\n"
   ]
  },
  {
   "cell_type": "code",
   "execution_count": 5,
   "metadata": {},
   "outputs": [
    {
     "name": "stdout",
     "output_type": "stream",
     "text": [
      "39195 items where added to the index\n",
      "Index is built\n"
     ]
    }
   ],
   "source": [
    "num_trees = 1000\n",
    "embedding_size = 32\n",
    "\n",
    "index, idx2item_mapping,  item2idx_mapping = build_embeddings_index(\n",
    "    embeddings_file_path, embedding_size, num_trees)"
   ]
  },
  {
   "cell_type": "markdown",
   "metadata": {},
   "source": [
    "## 2. Get tracks info from BigQuery"
   ]
  },
  {
   "cell_type": "code",
   "execution_count": 6,
   "metadata": {},
   "outputs": [],
   "source": [
    "track_ids = \",\".join(list(item2idx_mapping.keys()))\n",
    "\n",
    "query = '''\n",
    "    SELECT DISTINCT\n",
    "      tracks_data_id AS track_id,\n",
    "      tracks_data_title AS track_title, \n",
    "      tracks_data_artist_name AS artist_name, \n",
    "      tracks_data_album_title AS album_title \n",
    "    FROM \n",
    "      `bigquery-samples.playlists.playlist`\n",
    "    WHERE\n",
    "        tracks_data_id IN ({})\n",
    "'''.format(track_ids)"
   ]
  },
  {
   "cell_type": "code",
   "execution_count": 12,
   "metadata": {},
   "outputs": [
    {
     "name": "stderr",
     "output_type": "stream",
     "text": [
      "/Users/khalidsalama/Technology/GoogleCloud/GCP-Github/kfp-components/google/tf_hub/tabular2cooc/venv/lib/python3.6/site-packages/google/auth/_default.py:66: UserWarning: Your application has authenticated using end user credentials from Google Cloud SDK. We recommend that most server applications use service accounts instead. If your application continues to use end user credentials from Cloud SDK, you might receive a \"quota exceeded\" or \"API not enabled\" error. For more information about service accounts, see https://cloud.google.com/docs/authentication/\n",
      "  warnings.warn(_CLOUD_SDK_CREDENTIALS_WARNING)\n"
     ]
    },
    {
     "data": {
      "text/html": [
       "<div>\n",
       "<style scoped>\n",
       "    .dataframe tbody tr th:only-of-type {\n",
       "        vertical-align: middle;\n",
       "    }\n",
       "\n",
       "    .dataframe tbody tr th {\n",
       "        vertical-align: top;\n",
       "    }\n",
       "\n",
       "    .dataframe thead th {\n",
       "        text-align: right;\n",
       "    }\n",
       "</style>\n",
       "<table border=\"1\" class=\"dataframe\">\n",
       "  <thead>\n",
       "    <tr style=\"text-align: right;\">\n",
       "      <th></th>\n",
       "      <th>track_id</th>\n",
       "      <th>track_title</th>\n",
       "      <th>artist_name</th>\n",
       "      <th>album_title</th>\n",
       "    </tr>\n",
       "  </thead>\n",
       "  <tbody>\n",
       "    <tr>\n",
       "      <td>0</td>\n",
       "      <td>3637082</td>\n",
       "      <td>He's Got The Whole World In His Hands</td>\n",
       "      <td></td>\n",
       "      <td>Lady Blue Part 1</td>\n",
       "    </tr>\n",
       "    <tr>\n",
       "      <td>1</td>\n",
       "      <td>250011</td>\n",
       "      <td>L'amour dans la rue</td>\n",
       "      <td>K</td>\n",
       "      <td>L'arbre rouge</td>\n",
       "    </tr>\n",
       "    <tr>\n",
       "      <td>2</td>\n",
       "      <td>5447851</td>\n",
       "      <td>Est-Ce Que C'est Ça</td>\n",
       "      <td>M</td>\n",
       "      <td>Mister Mystère</td>\n",
       "    </tr>\n",
       "    <tr>\n",
       "      <td>3</td>\n",
       "      <td>5447858</td>\n",
       "      <td>Amssétou</td>\n",
       "      <td>M</td>\n",
       "      <td>Mister Mystère</td>\n",
       "    </tr>\n",
       "    <tr>\n",
       "      <td>4</td>\n",
       "      <td>3355751</td>\n",
       "      <td>Le blues de soustons (live)</td>\n",
       "      <td>M</td>\n",
       "      <td>le tour de m</td>\n",
       "    </tr>\n",
       "    <tr>\n",
       "      <td>5</td>\n",
       "      <td>3355750</td>\n",
       "      <td>Au suivant (live)</td>\n",
       "      <td>M</td>\n",
       "      <td>le tour de m</td>\n",
       "    </tr>\n",
       "    <tr>\n",
       "      <td>6</td>\n",
       "      <td>3355740</td>\n",
       "      <td>Je dis aime (live)</td>\n",
       "      <td>M</td>\n",
       "      <td>le tour de m</td>\n",
       "    </tr>\n",
       "    <tr>\n",
       "      <td>7</td>\n",
       "      <td>3355753</td>\n",
       "      <td>Le complexe du corn flakes (live)</td>\n",
       "      <td>M</td>\n",
       "      <td>le tour de m</td>\n",
       "    </tr>\n",
       "    <tr>\n",
       "      <td>8</td>\n",
       "      <td>3120756</td>\n",
       "      <td>Le bug (live 2005)</td>\n",
       "      <td>M</td>\n",
       "      <td>En Tête-A-Tête</td>\n",
       "    </tr>\n",
       "    <tr>\n",
       "      <td>9</td>\n",
       "      <td>3120753</td>\n",
       "      <td>Mama Sam (Live 2005)</td>\n",
       "      <td>M</td>\n",
       "      <td>En Tête-A-Tête</td>\n",
       "    </tr>\n",
       "  </tbody>\n",
       "</table>\n",
       "</div>"
      ],
      "text/plain": [
       "   track_id                            track_title artist_name  \\\n",
       "0   3637082  He's Got The Whole World In His Hands               \n",
       "1    250011                    L'amour dans la rue           K   \n",
       "2   5447851                    Est-Ce Que C'est Ça           M   \n",
       "3   5447858                               Amssétou           M   \n",
       "4   3355751            Le blues de soustons (live)           M   \n",
       "5   3355750                      Au suivant (live)           M   \n",
       "6   3355740                     Je dis aime (live)           M   \n",
       "7   3355753      Le complexe du corn flakes (live)           M   \n",
       "8   3120756                     Le bug (live 2005)           M   \n",
       "9   3120753                   Mama Sam (Live 2005)           M   \n",
       "\n",
       "        album_title  \n",
       "0  Lady Blue Part 1  \n",
       "1     L'arbre rouge  \n",
       "2    Mister Mystère  \n",
       "3    Mister Mystère  \n",
       "4      le tour de m  \n",
       "5      le tour de m  \n",
       "6      le tour de m  \n",
       "7      le tour de m  \n",
       "8    En Tête-A-Tête  \n",
       "9    En Tête-A-Tête  "
      ]
     },
     "metadata": {},
     "output_type": "display_data"
    }
   ],
   "source": [
    "bq_client = bigquery.Client(project=PROJECT_ID)\n",
    "query_job = bq_client.query(query)\n",
    "results = query_job.result().to_dataframe()\n",
    "display(results.head(10))"
   ]
  },
  {
   "cell_type": "markdown",
   "metadata": {},
   "source": [
    "## 3. Find similar items"
   ]
  },
  {
   "cell_type": "code",
   "execution_count": 8,
   "metadata": {},
   "outputs": [],
   "source": [
    "def get_similar_items(item_id, num_matches=20):\n",
    "    \n",
    "    idx = item2idx_mapping[item_id]\n",
    "    \n",
    "    similar_idx = index.get_nns_by_item(\n",
    "        idx, num_matches, search_k=-1, include_distances=False)\n",
    "    \n",
    "    similar_item_ids = []\n",
    "    for idx in similar_idx:\n",
    "        similar_item_ids.append(idx2item_mapping[idx])\n",
    "    \n",
    "    similar_items = results[results['track_id'].isin(similar_item_ids)]#.track_title\n",
    "    return similar_items"
   ]
  },
  {
   "cell_type": "code",
   "execution_count": 15,
   "metadata": {},
   "outputs": [
    {
     "data": {
      "text/html": [
       "<div>\n",
       "<style scoped>\n",
       "    .dataframe tbody tr th:only-of-type {\n",
       "        vertical-align: middle;\n",
       "    }\n",
       "\n",
       "    .dataframe tbody tr th {\n",
       "        vertical-align: top;\n",
       "    }\n",
       "\n",
       "    .dataframe thead th {\n",
       "        text-align: right;\n",
       "    }\n",
       "</style>\n",
       "<table border=\"1\" class=\"dataframe\">\n",
       "  <thead>\n",
       "    <tr style=\"text-align: right;\">\n",
       "      <th></th>\n",
       "      <th>track_id</th>\n",
       "      <th>track_title</th>\n",
       "      <th>artist_name</th>\n",
       "      <th>album_title</th>\n",
       "    </tr>\n",
       "  </thead>\n",
       "  <tbody>\n",
       "    <tr>\n",
       "      <td>1</td>\n",
       "      <td>250011</td>\n",
       "      <td>L'amour dans la rue</td>\n",
       "      <td>K</td>\n",
       "      <td>L'arbre rouge</td>\n",
       "    </tr>\n",
       "    <tr>\n",
       "      <td>36</td>\n",
       "      <td>3112281</td>\n",
       "      <td>Stratos</td>\n",
       "      <td>M.</td>\n",
       "      <td>Ne Le Dis À Personne</td>\n",
       "    </tr>\n",
       "    <tr>\n",
       "      <td>10221</td>\n",
       "      <td>196442</td>\n",
       "      <td>Dans la salle du bar tabac de la rue des Martyrs</td>\n",
       "      <td>Sanseverino</td>\n",
       "      <td>Exactement (bonus disc)</td>\n",
       "    </tr>\n",
       "    <tr>\n",
       "      <td>18449</td>\n",
       "      <td>23234</td>\n",
       "      <td>Speck of Gold (feat. Cathy Battistessa)</td>\n",
       "      <td>Afterlife</td>\n",
       "      <td>Speck of Gold (disc 1)</td>\n",
       "    </tr>\n",
       "    <tr>\n",
       "      <td>26128</td>\n",
       "      <td>249298</td>\n",
       "      <td>La belle et le bad boy</td>\n",
       "      <td>MC Solaar</td>\n",
       "      <td>Cinquième as</td>\n",
       "    </tr>\n",
       "    <tr>\n",
       "      <td>26962</td>\n",
       "      <td>1162029</td>\n",
       "      <td>The Seed (2.0) (Album Version Explicit)</td>\n",
       "      <td>The Roots</td>\n",
       "      <td>Phrenology</td>\n",
       "    </tr>\n",
       "    <tr>\n",
       "      <td>27762</td>\n",
       "      <td>567584</td>\n",
       "      <td>Waiting on the World to Change</td>\n",
       "      <td>John Mayer</td>\n",
       "      <td>Continuum</td>\n",
       "    </tr>\n",
       "    <tr>\n",
       "      <td>37454</td>\n",
       "      <td>582288</td>\n",
       "      <td>Je Te Donne</td>\n",
       "      <td>Jean-Jacques Goldman;Michael Jones</td>\n",
       "      <td>Quand La Musique Est Bonne / Non Homologue / P...</td>\n",
       "    </tr>\n",
       "    <tr>\n",
       "      <td>37551</td>\n",
       "      <td>291051</td>\n",
       "      <td>Jojo (Chant)</td>\n",
       "      <td>Les Ogres De Barback Et Les Hurlements D'léo</td>\n",
       "      <td>Un air, deux familles</td>\n",
       "    </tr>\n",
       "    <tr>\n",
       "      <td>39133</td>\n",
       "      <td>1150669</td>\n",
       "      <td>Sentimental Bourreau</td>\n",
       "      <td>Boby Lapointe</td>\n",
       "      <td>Le Best Of</td>\n",
       "    </tr>\n",
       "  </tbody>\n",
       "</table>\n",
       "</div>"
      ],
      "text/plain": [
       "       track_id                                       track_title  \\\n",
       "1        250011                               L'amour dans la rue   \n",
       "36      3112281                                           Stratos   \n",
       "10221    196442  Dans la salle du bar tabac de la rue des Martyrs   \n",
       "18449     23234           Speck of Gold (feat. Cathy Battistessa)   \n",
       "26128    249298                            La belle et le bad boy   \n",
       "26962   1162029           The Seed (2.0) (Album Version Explicit)   \n",
       "27762    567584                    Waiting on the World to Change   \n",
       "37454    582288                                       Je Te Donne   \n",
       "37551    291051                                      Jojo (Chant)   \n",
       "39133   1150669                              Sentimental Bourreau   \n",
       "\n",
       "                                        artist_name  \\\n",
       "1                                                 K   \n",
       "36                                               M.   \n",
       "10221                                   Sanseverino   \n",
       "18449                                     Afterlife   \n",
       "26128                                     MC Solaar   \n",
       "26962                                     The Roots   \n",
       "27762                                    John Mayer   \n",
       "37454            Jean-Jacques Goldman;Michael Jones   \n",
       "37551  Les Ogres De Barback Et Les Hurlements D'léo   \n",
       "39133                                 Boby Lapointe   \n",
       "\n",
       "                                             album_title  \n",
       "1                                          L'arbre rouge  \n",
       "36                                  Ne Le Dis À Personne  \n",
       "10221                            Exactement (bonus disc)  \n",
       "18449                             Speck of Gold (disc 1)  \n",
       "26128                                       Cinquième as  \n",
       "26962                                         Phrenology  \n",
       "27762                                          Continuum  \n",
       "37454  Quand La Musique Est Bonne / Non Homologue / P...  \n",
       "37551                              Un air, deux familles  \n",
       "39133                                         Le Best Of  "
      ]
     },
     "execution_count": 15,
     "metadata": {},
     "output_type": "execute_result"
    }
   ],
   "source": [
    "get_similar_items('250011')"
   ]
  },
  {
   "cell_type": "code",
   "execution_count": null,
   "metadata": {},
   "outputs": [],
   "source": []
  }
 ],
 "metadata": {
  "kernelspec": {
   "display_name": "Python 3",
   "language": "python",
   "name": "python3"
  },
  "language_info": {
   "codemirror_mode": {
    "name": "ipython",
    "version": 3
   },
   "file_extension": ".py",
   "mimetype": "text/x-python",
   "name": "python",
   "nbconvert_exporter": "python",
   "pygments_lexer": "ipython3",
   "version": "3.6.4"
  }
 },
 "nbformat": 4,
 "nbformat_minor": 2
}
