{
 "cells": [
  {
   "cell_type": "markdown",
   "metadata": {},
   "source": [
    "# Building an Approximate Nearest Neighbours Index\n",
    "\n",
    "This tutorial shows how to build an approximate nearest neighbours (ann) index for a given set of embeddings.\n",
    "\n",
    "We use the Spotify [ANNOY](https://github.com/spotify/annoy) library for this task.\n",
    "\n",
    "The following are the steps of this tutorial:\n",
    "1. Build the annoy index given the embeddings saved in the TSV file\n",
    "2. Get track information from BigQuery\n",
    "3. Use the index to find similar tracks to a given one\n",
    "\n",
    "<a href=\"https://colab.research.google.com/github/ksalama/data2cooc2emb2ann/blob/master/03-Building_an_Approximate_Nearest_Neighbours_Index.ipynb\" target=\"_parent\"><img src=\"https://colab.research.google.com/assets/colab-badge.svg\" alt=\"Open In Colab\"/></a>"
   ]
  },
  {
   "cell_type": "markdown",
   "metadata": {},
   "source": [
    "### Setup"
   ]
  },
  {
   "cell_type": "code",
   "execution_count": null,
   "metadata": {},
   "outputs": [],
   "source": [
    "# !pip install -r requirements.txt"
   ]
  },
  {
   "cell_type": "code",
   "execution_count": 22,
   "metadata": {},
   "outputs": [],
   "source": [
    "# If using COLAB\n",
    "try:\n",
    "    from google.colab import auth\n",
    "    auth.authenticate_user()\n",
    "except: pass"
   ]
  },
  {
   "cell_type": "code",
   "execution_count": 1,
   "metadata": {},
   "outputs": [],
   "source": [
    "import os\n",
    "from annoy import AnnoyIndex\n",
    "from datetime import datetime\n",
    "from google.cloud import bigquery"
   ]
  },
  {
   "cell_type": "code",
   "execution_count": 6,
   "metadata": {},
   "outputs": [],
   "source": [
    "PROJECT_ID = 'ksalama-cloudml'\n",
    "WORKSPACE = './workspace'\n",
    "embeddings_file_path = os.path.join(WORKSPACE,'embeddings.tsv')\n",
    "index_file_path = os.path.join(WORKSPACE,'embed-ann.index')"
   ]
  },
  {
   "cell_type": "markdown",
   "metadata": {},
   "source": [
    "## 1. Build Annoy Index"
   ]
  },
  {
   "cell_type": "code",
   "execution_count": 13,
   "metadata": {},
   "outputs": [],
   "source": [
    "def build_embeddings_index(embeddings_file, embedding_size, num_trees):\n",
    "    annoy_index = AnnoyIndex(embedding_size, metric='angular')\n",
    "    idx2item_mapping = dict()\n",
    "    itemidx_mapping = dict()\n",
    "    \n",
    "    idx = 0\n",
    "    \n",
    "    with open(embeddings_file_path) as embedding_file:\n",
    "        while True:\n",
    "            line = embedding_file.readline()\n",
    "            if not line: break\n",
    "                \n",
    "            parts = line.split('\\t')\n",
    "            item_id = parts[0]\n",
    "            embedding = [float(v) for v in parts[1:]]\n",
    "            \n",
    "            idx2item_mapping[idx] = item_id\n",
    "            itemidx_mapping[item_id] = idx\n",
    "\n",
    "            annoy_index.add_item(idx, embedding)\n",
    "            idx+=1\n",
    "        \n",
    "    print(\"{} items where added to the index\".format(idx))\n",
    "    annoy_index.build(n_trees=num_trees)\n",
    "    print(\"Index is built\")\n",
    "    return annoy_index, idx2item_mapping, item2idx_mapping\n"
   ]
  },
  {
   "cell_type": "code",
   "execution_count": 14,
   "metadata": {},
   "outputs": [
    {
     "name": "stdout",
     "output_type": "stream",
     "text": [
      "39195 items where added to the index\n",
      "Index is built\n"
     ]
    }
   ],
   "source": [
    "num_trees = 100\n",
    "embedding_size = 32\n",
    "\n",
    "index, idx2item_mapping,  item2idx_mapping = build_embeddings_index(\n",
    "    embeddings_file_path, embedding_size, num_trees)"
   ]
  },
  {
   "cell_type": "markdown",
   "metadata": {},
   "source": [
    "## 2. Get tracks info from BigQuery"
   ]
  },
  {
   "cell_type": "code",
   "execution_count": 16,
   "metadata": {},
   "outputs": [],
   "source": [
    "track_ids = \",\".join(list(item2idx_mapping.keys()))\n",
    "\n",
    "query = '''\n",
    "    SELECT DISTINCT\n",
    "      tracks_data_id AS track_id,\n",
    "      tracks_data_title AS track_title, \n",
    "      tracks_data_artist_name AS artist_name, \n",
    "      tracks_data_album_title AS album_title \n",
    "    FROM \n",
    "      `bigquery-samples.playlists.playlist`\n",
    "    WHERE\n",
    "        tracks_data_id IN ({})\n",
    "'''.format(track_ids)"
   ]
  },
  {
   "cell_type": "code",
   "execution_count": 17,
   "metadata": {},
   "outputs": [
    {
     "name": "stderr",
     "output_type": "stream",
     "text": [
      "/Users/khalidsalama/Technology/GoogleCloud/GCP-Github/kfp-components/google/tf_hub/tabular2cooc/venv/lib/python3.6/site-packages/google/auth/_default.py:66: UserWarning: Your application has authenticated using end user credentials from Google Cloud SDK. We recommend that most server applications use service accounts instead. If your application continues to use end user credentials from Cloud SDK, you might receive a \"quota exceeded\" or \"API not enabled\" error. For more information about service accounts, see https://cloud.google.com/docs/authentication/\n",
      "  warnings.warn(_CLOUD_SDK_CREDENTIALS_WARNING)\n"
     ]
    },
    {
     "data": {
      "text/html": [
       "<div>\n",
       "<style scoped>\n",
       "    .dataframe tbody tr th:only-of-type {\n",
       "        vertical-align: middle;\n",
       "    }\n",
       "\n",
       "    .dataframe tbody tr th {\n",
       "        vertical-align: top;\n",
       "    }\n",
       "\n",
       "    .dataframe thead th {\n",
       "        text-align: right;\n",
       "    }\n",
       "</style>\n",
       "<table border=\"1\" class=\"dataframe\">\n",
       "  <thead>\n",
       "    <tr style=\"text-align: right;\">\n",
       "      <th></th>\n",
       "      <th>track_id</th>\n",
       "      <th>track_title</th>\n",
       "      <th>artist_name</th>\n",
       "      <th>album_title</th>\n",
       "    </tr>\n",
       "  </thead>\n",
       "  <tbody>\n",
       "    <tr>\n",
       "      <td>0</td>\n",
       "      <td>3637082</td>\n",
       "      <td>He's Got The Whole World In His Hands</td>\n",
       "      <td></td>\n",
       "      <td>Lady Blue Part 1</td>\n",
       "    </tr>\n",
       "    <tr>\n",
       "      <td>1</td>\n",
       "      <td>250011</td>\n",
       "      <td>L'amour dans la rue</td>\n",
       "      <td>K</td>\n",
       "      <td>L'arbre rouge</td>\n",
       "    </tr>\n",
       "    <tr>\n",
       "      <td>2</td>\n",
       "      <td>5447851</td>\n",
       "      <td>Est-Ce Que C'est Ça</td>\n",
       "      <td>M</td>\n",
       "      <td>Mister Mystère</td>\n",
       "    </tr>\n",
       "    <tr>\n",
       "      <td>3</td>\n",
       "      <td>5447858</td>\n",
       "      <td>Amssétou</td>\n",
       "      <td>M</td>\n",
       "      <td>Mister Mystère</td>\n",
       "    </tr>\n",
       "    <tr>\n",
       "      <td>4</td>\n",
       "      <td>3355751</td>\n",
       "      <td>Le blues de soustons (live)</td>\n",
       "      <td>M</td>\n",
       "      <td>le tour de m</td>\n",
       "    </tr>\n",
       "  </tbody>\n",
       "</table>\n",
       "</div>"
      ],
      "text/plain": [
       "   track_id                            track_title artist_name  \\\n",
       "0   3637082  He's Got The Whole World In His Hands               \n",
       "1    250011                    L'amour dans la rue           K   \n",
       "2   5447851                    Est-Ce Que C'est Ça           M   \n",
       "3   5447858                               Amssétou           M   \n",
       "4   3355751            Le blues de soustons (live)           M   \n",
       "\n",
       "        album_title  \n",
       "0  Lady Blue Part 1  \n",
       "1     L'arbre rouge  \n",
       "2    Mister Mystère  \n",
       "3    Mister Mystère  \n",
       "4      le tour de m  "
      ]
     },
     "metadata": {},
     "output_type": "display_data"
    }
   ],
   "source": [
    "bq_client = bigquery.Client(project=PROJECT_ID)\n",
    "query_job = bq_client.query(query)\n",
    "results = query_job.result().to_dataframe()\n",
    "display(results.head())"
   ]
  },
  {
   "cell_type": "markdown",
   "metadata": {},
   "source": [
    "## 3. Find similar items"
   ]
  },
  {
   "cell_type": "code",
   "execution_count": 19,
   "metadata": {},
   "outputs": [],
   "source": [
    "def get_similar_items(item_id, num_matches=10):\n",
    "    \n",
    "    idx = item2idx_mapping[item_id]\n",
    "    \n",
    "    similar_idx = index.get_nns_by_item(\n",
    "        idx, num_matches, search_k=-1, include_distances=False)\n",
    "    \n",
    "    similar_item_ids = []\n",
    "    for idx in similar_idx:\n",
    "        similar_item_ids.append(idx2item_mapping[idx])\n",
    "    \n",
    "    similar_items = results[results['track_id'].isin(similar_item_ids)]#.track_title\n",
    "    return similar_items"
   ]
  },
  {
   "cell_type": "code",
   "execution_count": 21,
   "metadata": {},
   "outputs": [
    {
     "data": {
      "text/html": [
       "<div>\n",
       "<style scoped>\n",
       "    .dataframe tbody tr th:only-of-type {\n",
       "        vertical-align: middle;\n",
       "    }\n",
       "\n",
       "    .dataframe tbody tr th {\n",
       "        vertical-align: top;\n",
       "    }\n",
       "\n",
       "    .dataframe thead th {\n",
       "        text-align: right;\n",
       "    }\n",
       "</style>\n",
       "<table border=\"1\" class=\"dataframe\">\n",
       "  <thead>\n",
       "    <tr style=\"text-align: right;\">\n",
       "      <th></th>\n",
       "      <th>track_id</th>\n",
       "      <th>track_title</th>\n",
       "      <th>artist_name</th>\n",
       "      <th>album_title</th>\n",
       "    </tr>\n",
       "  </thead>\n",
       "  <tbody>\n",
       "    <tr>\n",
       "      <td>2</td>\n",
       "      <td>5447851</td>\n",
       "      <td>Est-Ce Que C'est Ça</td>\n",
       "      <td>M</td>\n",
       "      <td>Mister Mystère</td>\n",
       "    </tr>\n",
       "    <tr>\n",
       "      <td>17888</td>\n",
       "      <td>555438</td>\n",
       "      <td>Il Me Dit Que Je Suis Belle</td>\n",
       "      <td>Liane Foly;Natasha St-Pier;Julie Zenatti;Jenifer</td>\n",
       "      <td>La Foire Aux Enfoires</td>\n",
       "    </tr>\n",
       "    <tr>\n",
       "      <td>20724</td>\n",
       "      <td>4311052</td>\n",
       "      <td>Next Time</td>\n",
       "      <td>Soan</td>\n",
       "      <td>Next Time</td>\n",
       "    </tr>\n",
       "    <tr>\n",
       "      <td>24283</td>\n",
       "      <td>1123687</td>\n",
       "      <td>Bad Medicine</td>\n",
       "      <td>Bon Jovi</td>\n",
       "      <td>Cross Road</td>\n",
       "    </tr>\n",
       "    <tr>\n",
       "      <td>27358</td>\n",
       "      <td>62723999</td>\n",
       "      <td>When I Was Your Man</td>\n",
       "      <td>Bruno Mars</td>\n",
       "      <td>Unorthodox Jukebox</td>\n",
       "    </tr>\n",
       "    <tr>\n",
       "      <td>31206</td>\n",
       "      <td>797541</td>\n",
       "      <td>These Streets</td>\n",
       "      <td>Paolo Nutini</td>\n",
       "      <td>These Streets</td>\n",
       "    </tr>\n",
       "    <tr>\n",
       "      <td>31830</td>\n",
       "      <td>3774054</td>\n",
       "      <td>Colours</td>\n",
       "      <td>Calvin Harris</td>\n",
       "      <td>I Created Disco (Bonus Version)</td>\n",
       "    </tr>\n",
       "    <tr>\n",
       "      <td>33496</td>\n",
       "      <td>2170512</td>\n",
       "      <td>Le Coeur Grenadine</td>\n",
       "      <td>Laurent Voulzy</td>\n",
       "      <td>Belle Ile En Mer</td>\n",
       "    </tr>\n",
       "    <tr>\n",
       "      <td>36972</td>\n",
       "      <td>2288566</td>\n",
       "      <td>Go With The Flow</td>\n",
       "      <td>Queens of the Stone Age</td>\n",
       "      <td>Go With The Flow</td>\n",
       "    </tr>\n",
       "    <tr>\n",
       "      <td>38189</td>\n",
       "      <td>3368674</td>\n",
       "      <td>Quello Che Non C'è</td>\n",
       "      <td>Afterhours</td>\n",
       "      <td>Quello Che Non C'è</td>\n",
       "    </tr>\n",
       "  </tbody>\n",
       "</table>\n",
       "</div>"
      ],
      "text/plain": [
       "       track_id                  track_title  \\\n",
       "2       5447851          Est-Ce Que C'est Ça   \n",
       "17888    555438  Il Me Dit Que Je Suis Belle   \n",
       "20724   4311052                    Next Time   \n",
       "24283   1123687                 Bad Medicine   \n",
       "27358  62723999          When I Was Your Man   \n",
       "31206    797541                These Streets   \n",
       "31830   3774054                      Colours   \n",
       "33496   2170512           Le Coeur Grenadine   \n",
       "36972   2288566             Go With The Flow   \n",
       "38189   3368674           Quello Che Non C'è   \n",
       "\n",
       "                                            artist_name  \\\n",
       "2                                                     M   \n",
       "17888  Liane Foly;Natasha St-Pier;Julie Zenatti;Jenifer   \n",
       "20724                                              Soan   \n",
       "24283                                          Bon Jovi   \n",
       "27358                                        Bruno Mars   \n",
       "31206                                      Paolo Nutini   \n",
       "31830                                     Calvin Harris   \n",
       "33496                                    Laurent Voulzy   \n",
       "36972                           Queens of the Stone Age   \n",
       "38189                                        Afterhours   \n",
       "\n",
       "                           album_title  \n",
       "2                       Mister Mystère  \n",
       "17888            La Foire Aux Enfoires  \n",
       "20724                        Next Time  \n",
       "24283                       Cross Road  \n",
       "27358               Unorthodox Jukebox  \n",
       "31206                    These Streets  \n",
       "31830  I Created Disco (Bonus Version)  \n",
       "33496                 Belle Ile En Mer  \n",
       "36972                 Go With The Flow  \n",
       "38189               Quello Che Non C'è  "
      ]
     },
     "execution_count": 21,
     "metadata": {},
     "output_type": "execute_result"
    }
   ],
   "source": [
    "get_similar_items('5447851')"
   ]
  },
  {
   "cell_type": "code",
   "execution_count": null,
   "metadata": {},
   "outputs": [],
   "source": []
  }
 ],
 "metadata": {
  "kernelspec": {
   "display_name": "Python 3",
   "language": "python",
   "name": "python3"
  },
  "language_info": {
   "codemirror_mode": {
    "name": "ipython",
    "version": 3
   },
   "file_extension": ".py",
   "mimetype": "text/x-python",
   "name": "python",
   "nbconvert_exporter": "python",
   "pygments_lexer": "ipython3",
   "version": "3.6.4"
  }
 },
 "nbformat": 4,
 "nbformat_minor": 2
}
