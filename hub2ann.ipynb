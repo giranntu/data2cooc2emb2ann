{
  "nbformat": 4,
  "nbformat_minor": 0,
  "metadata": {
    "colab": {
      "name": "hub2ann.ipynb",
      "provenance": [],
      "collapsed_sections": [],
      "toc_visible": true
    },
    "kernelspec": {
      "name": "python3",
      "display_name": "Python 3"
    }
  },
  "cells": [
    {
      "cell_type": "markdown",
      "metadata": {
        "id": "9qOVy-_vmuUP",
        "colab_type": "text"
      },
      "source": [
        "# Approximate Embeddings Similarity Matching\n",
        "\n",
        "This tutorial illustrates how to gnerate embeddings from a [TensorFlow Hub](https://www.tensorflow.org/hub) (TF-Hb) module given input data, and build an approximate nearest neighbours (ANN) index using the extracted embeddings. The index can then be used for real-time similarity matching an retreival.\n",
        "\n",
        "The steps of this tutorial are:\n",
        "1. Download sample data.\n",
        "2. Generate embeddings for the data using a TF-Hub module\n",
        "3. Build an ANN index for the embeddings\n",
        "4. Use the index for similarity matching\n",
        "\n",
        "We use [Apache Beam](https://beam.apache.org/documentation/programming-guide/) with [TensorFlow Transform](https://www.tensorflow.org/tfx/tutorials/transform/simple) (TF-Transform) to generate the embeddings from the TF-Hub module. We also use Spotify's [ANNOY](https://github.com/spotify/annoy) library to build the approximate nearest neighbours index."
      ]
    },
    {
      "cell_type": "markdown",
      "metadata": {
        "id": "Q0jr0QK9qO5P",
        "colab_type": "text"
      },
      "source": [
        "## Getting Started"
      ]
    },
    {
      "cell_type": "markdown",
      "metadata": {
        "id": "whMRj9qeqed4",
        "colab_type": "text"
      },
      "source": [
        "Install the required libraries."
      ]
    },
    {
      "cell_type": "code",
      "metadata": {
        "id": "qmXkLPoaqS--",
        "colab_type": "code",
        "colab": {}
      },
      "source": [
        "!pip3 install apache_beam[gcp]\n",
        "!pip3 install tensorflow_transform\n",
        "!pip3 install annoy"
      ],
      "execution_count": 0,
      "outputs": []
    },
    {
      "cell_type": "markdown",
      "metadata": {
        "id": "A-vBZiCCqld0",
        "colab_type": "text"
      },
      "source": [
        "Import the required libraries"
      ]
    },
    {
      "cell_type": "code",
      "metadata": {
        "id": "6NTYbdWcseuK",
        "colab_type": "code",
        "outputId": "e56dfe66-0cb9-4300-a15f-534a6e9d0871",
        "colab": {
          "base_uri": "https://localhost:8080/",
          "height": 73
        }
      },
      "source": [
        "import os\n",
        "import pickle\n",
        "from datetime import datetime\n",
        "import numpy as np\n",
        "import apache_beam as beam\n",
        "import tensorflow as tf\n",
        "import tensorflow_transform as tft\n",
        "import tensorflow_hub as hub\n",
        "import tensorflow_transform.beam as tft_beam\n",
        "import annoy"
      ],
      "execution_count": 0,
      "outputs": [
        {
          "output_type": "stream",
          "text": [
            "/usr/local/lib/python3.6/dist-packages/apache_beam/__init__.py:84: UserWarning: Some syntactic constructs of Python 3 are not yet fully supported by Apache Beam.\n",
            "  'Some syntactic constructs of Python 3 are not yet fully supported by '\n"
          ],
          "name": "stderr"
        }
      ]
    },
    {
      "cell_type": "code",
      "metadata": {
        "id": "tx0SZa6-7b-f",
        "colab_type": "code",
        "outputId": "898a720e-90e4-43a1-9b6a-be442e11c131",
        "colab": {
          "base_uri": "https://localhost:8080/",
          "height": 89
        }
      },
      "source": [
        "print('TF version: {}'.format(tf.__version__))\n",
        "print('TF-Hub version: {}'.format(hub.__version__))\n",
        "print('TF-Transform version: {}'.format(tft.__version__))\n",
        "print('Apache Beam version: {}'.format(beam.__version__))"
      ],
      "execution_count": 0,
      "outputs": [
        {
          "output_type": "stream",
          "text": [
            "TF version: 1.14.0\n",
            "TF-Hub version: 0.6.0\n",
            "TF-Transform version: 0.14.0\n",
            "Apache Beam version: 2.15.0\n"
          ],
          "name": "stdout"
        }
      ]
    },
    {
      "cell_type": "markdown",
      "metadata": {
        "id": "P6Imq876rLWx",
        "colab_type": "text"
      },
      "source": [
        "## 1. Download Sample Data\n",
        "\n",
        "[A Million News Headlines](https://dataverse.harvard.edu/dataset.xhtml?persistentId=doi:10.7910/DVN/SYBGZL#) contains data of news headlines published over a period of 15 years. Sourced from the reputable Australian news source Australian Broadcasting Corp. (ABC). This this news dataset as a summarised historical record of noteworthy events in the globe from early-2003 to end-2017 with a more granular focus on Australia. \n",
        "\n",
        "This includes the entire corpus of articles published by the ABC website in the given time range. With a volume of 200 articles per day and a good focus on international news, events of significance has been captured here. Digging into the keywords, one can see all the important episodes shaping the last decade and how they evolved over time. Ex: financial crisis, iraq war, multiple US elections, ecological disasters, terrorism, famous people, Australian crimes etc.\n",
        "\n",
        "**Format**: Tab-separated two-column data: 1) publication date and 2) headline text. We are only interested in the headline text.\n",
        "\n"
      ]
    },
    {
      "cell_type": "code",
      "metadata": {
        "id": "xU02z9HUlw51",
        "colab_type": "code",
        "colab": {}
      },
      "source": [
        "!wget https://dataverse.harvard.edu/api/access/datafile/3450625?format=tab&gbrecs=true\n",
        "!mv 3450625?format=tab raw.tsv"
      ],
      "execution_count": 0,
      "outputs": []
    },
    {
      "cell_type": "code",
      "metadata": {
        "id": "dkYU48hNrr5n",
        "colab_type": "code",
        "colab": {}
      },
      "source": [
        "!wc -l raw.tsv\n",
        "!head raw.tsv"
      ],
      "execution_count": 0,
      "outputs": []
    },
    {
      "cell_type": "markdown",
      "metadata": {
        "id": "Reeoc9z0zTxJ",
        "colab_type": "text"
      },
      "source": [
        "For simplicity, we only keep the headline text and remove the publication date"
      ]
    },
    {
      "cell_type": "code",
      "metadata": {
        "id": "_mWuoA3Y3uQF",
        "colab_type": "code",
        "colab": {}
      },
      "source": [
        "!rm -r corpus\n",
        "!mkdir corpus"
      ],
      "execution_count": 0,
      "outputs": []
    },
    {
      "cell_type": "code",
      "metadata": {
        "id": "INPWa4upv_yJ",
        "colab_type": "code",
        "colab": {}
      },
      "source": [
        "with open('corpus/text.txt', 'w') as out_file:\n",
        "  with open('raw.tsv', 'r') as in_file:\n",
        "    for line in in_file:\n",
        "      headline = line.split('\\t')[1].strip().strip('\"')\n",
        "      out_file.write(headline+\"\\n\")"
      ],
      "execution_count": 0,
      "outputs": []
    },
    {
      "cell_type": "code",
      "metadata": {
        "id": "5-oedX40z6o2",
        "colab_type": "code",
        "colab": {}
      },
      "source": [
        "!tail corpus/text.txt"
      ],
      "execution_count": 0,
      "outputs": []
    },
    {
      "cell_type": "markdown",
      "metadata": {
        "id": "2AngMtH50jNb",
        "colab_type": "text"
      },
      "source": [
        "## 2. Generate Embeddings for the Data.\n",
        "\n",
        "In this tutorial, we use the [Universal Sentence Encoder](https://tfhub.dev/google/universal-sentence-encoder/2) to generate emebeddings for the headlines data. The sentence embeddings can then be easily used to compute sentence level meaning similarity. We run the embeddings generation process using Apache Beam and TF-Transform."
      ]
    },
    {
      "cell_type": "markdown",
      "metadata": {
        "id": "F_DvXnDB1pEX",
        "colab_type": "text"
      },
      "source": [
        "### Embeddings extraction pipeline"
      ]
    },
    {
      "cell_type": "code",
      "metadata": {
        "id": "yL7OEY1E0A35",
        "colab_type": "code",
        "colab": {}
      },
      "source": [
        "encoder = None\n",
        "\n",
        "def embed_text(text, module_url):\n",
        "  import tensorflow_hub as hub\n",
        "  global encoder\n",
        "  if encoder is None:\n",
        "    encoder = hub.Module(module_url)\n",
        "  embedding = encoder(text)\n",
        "  return embedding\n",
        "\n",
        "\n",
        "def get_metadata():\n",
        "  from tensorflow_transform.tf_metadata import dataset_metadata\n",
        "  from tensorflow_transform.tf_metadata import schema_utils\n",
        "  feature_spec = {'text': tf.FixedLenFeature([], dtype=tf.string)}\n",
        "  schema = schema_utils.schema_from_feature_spec(feature_spec)\n",
        "  metadata = dataset_metadata.DatasetMetadata(schema)\n",
        "  return metadata\n",
        "\n",
        "\n",
        "def make_preprocess_fn(module_url, random_projection_matrix=None):\n",
        "\n",
        "  def _preprocess_fn(input_features):\n",
        "    text = input_features['text']\n",
        "    embedding = embed_text(text, module_url)\n",
        "\n",
        "    if random_projection_matrix is not None:\n",
        "      embedding = tf.matmul(\n",
        "          embedding, tf.cast(random_projection_matrix, embedding.dtype))\n",
        "\n",
        "    output_features = {\n",
        "        'text': text,\n",
        "        'embedding': embedding\n",
        "        }\n",
        "    return output_features\n",
        "  \n",
        "  return _preprocess_fn\n"
      ],
      "execution_count": 0,
      "outputs": []
    },
    {
      "cell_type": "code",
      "metadata": {
        "id": "jCGUIB172m2G",
        "colab_type": "code",
        "colab": {}
      },
      "source": [
        "def run_hub2emb(args):\n",
        "\n",
        "  source_data_location = args['source_data_location']\n",
        "  sink_data_location = args['sink_data_location']\n",
        "  runner = args['runner']\n",
        "  temporary_dir = args['temporary_location']\n",
        "  module_url = args['module_url']\n",
        "  original_dim = args['original_dim']\n",
        "  projected_dim = args['projected_dim']\n",
        "\n",
        "  pipeline_options = beam.options.pipeline_options.PipelineOptions(**args)\n",
        "  raw_metadata = get_metadata()\n",
        "  converter = tft.coders.CsvCoder(\n",
        "      column_names=['text'], schema=raw_metadata.schema)\n",
        "  \n",
        "  random_projection_matrix = None\n",
        "  if projected_dim and original_dim != projected_dim:\n",
        "    random_projection_matrix = np.random.uniform(\n",
        "        low=-1, high=1, size=(original_dim, projected_dim))\n",
        "    print('Storing random projection matrix to disk...')\n",
        "    with open('random_projection_matrix', 'wb') as handle:\n",
        "      pickle.dump(random_projection_matrix, handle, protocol=pickle.HIGHEST_PROTOCOL)\n",
        "\n",
        "  with beam.Pipeline(runner, options=pipeline_options) as pipeline:\n",
        "    with tft_beam.Context(temporary_dir):\n",
        "\n",
        "      sentences = ( \n",
        "          pipeline\n",
        "          | 'Read sentences from files' >> beam.io.ReadFromText(\n",
        "              file_pattern=source_data_location)\n",
        "          | 'Convert to dictionary' >> beam.Map(converter.decode)\n",
        "      )\n",
        "\n",
        "      sentences_dataset = (sentences, raw_metadata)\n",
        "      preprocess_fn = make_preprocess_fn(module_url, random_projection_matrix)\n",
        "\n",
        "      embeddings_dataset, _ = (\n",
        "          sentences_dataset\n",
        "          | 'Extract embeddings' >> tft_beam.AnalyzeAndTransformDataset(\n",
        "              preprocess_fn)\n",
        "      )\n",
        "\n",
        "      embeddings, transformed_metadata = embeddings_dataset\n",
        "\n",
        "      embeddings | 'Write embeddings to TFRecords' >> beam.io.tfrecordio.WriteToTFRecord(\n",
        "        file_path_prefix='{}/emb'.format(sink_data_location),\n",
        "        file_name_suffix='.tfrecords',\n",
        "        coder=tft.coders.ExampleProtoCoder(transformed_metadata.schema))\n",
        "      "
      ],
      "execution_count": 0,
      "outputs": []
    },
    {
      "cell_type": "markdown",
      "metadata": {
        "id": "On-MbzD922kb",
        "colab_type": "text"
      },
      "source": [
        "### Run pipeline"
      ]
    },
    {
      "cell_type": "code",
      "metadata": {
        "id": "Y3I1Wv4i21yY",
        "colab_type": "code",
        "outputId": "0e8e02f3-fb97-4b73-a6da-01de4f9085ec",
        "colab": {
          "base_uri": "https://localhost:8080/",
          "height": 35
        }
      },
      "source": [
        "runner = 'DirectRunner'\n",
        "job_name = 'hub2emb-{}'.format(datetime.utcnow().strftime('%y%m%d-%H%M%S'))\n",
        "input_data = 'corpus/*.txt'\n",
        "output_dir = 'embeds'\n",
        "temporary_dir = 'tmp'\n",
        "module_url = 'https://tfhub.dev/google/universal-sentence-encoder/2'\n",
        "\n",
        "original_dim = 512\n",
        "projected_dim = 128\n",
        "\n",
        "args = {\n",
        "    'job_name': job_name,\n",
        "    'runner': runner,\n",
        "    'source_data_location': input_data,\n",
        "    'sink_data_location': output_dir,\n",
        "    'temporary_location': temporary_dir,\n",
        "    'module_url': module_url,\n",
        "    'original_dim': original_dim,\n",
        "    'projected_dim': projected_dim\n",
        "}\n",
        "\n",
        "print(\"Pipeline args are set.\")"
      ],
      "execution_count": 0,
      "outputs": [
        {
          "output_type": "stream",
          "text": [
            "Pipeline args are set.\n"
          ],
          "name": "stdout"
        }
      ]
    },
    {
      "cell_type": "code",
      "metadata": {
        "id": "iS9obmeP4ZOA",
        "colab_type": "code",
        "outputId": "d2c6ead2-f0c2-4765-ff06-9beab63e5bca",
        "colab": {
          "base_uri": "https://localhost:8080/",
          "height": 399
        }
      },
      "source": [
        "!rm -r {output_dir}\n",
        "!rm -r {temporary_dir}\n",
        "!rm random_projection_matrix\n",
        "\n",
        "print(\"Running pipeline...\")\n",
        "%time run_hub2emb(args)\n",
        "print(\"Pipeline is done.\")"
      ],
      "execution_count": 0,
      "outputs": [
        {
          "output_type": "stream",
          "text": [
            "Running pipeline...\n",
            "Storing random projection matrix to disk...\n",
            "INFO:tensorflow:Saver not created because there are no variables in the graph to restore\n"
          ],
          "name": "stdout"
        },
        {
          "output_type": "stream",
          "text": [
            "INFO:tensorflow:Saver not created because there are no variables in the graph to restore\n"
          ],
          "name": "stderr"
        },
        {
          "output_type": "stream",
          "text": [
            "WARNING:tensorflow:From /usr/local/lib/python3.6/dist-packages/tensorflow/python/saved_model/signature_def_utils_impl.py:201: build_tensor_info (from tensorflow.python.saved_model.utils_impl) is deprecated and will be removed in a future version.\n",
            "Instructions for updating:\n",
            "This function will only be available through the v1 compatibility library as tf.compat.v1.saved_model.utils.build_tensor_info or tf.compat.v1.saved_model.build_tensor_info.\n"
          ],
          "name": "stdout"
        },
        {
          "output_type": "stream",
          "text": [
            "WARNING:tensorflow:From /usr/local/lib/python3.6/dist-packages/tensorflow/python/saved_model/signature_def_utils_impl.py:201: build_tensor_info (from tensorflow.python.saved_model.utils_impl) is deprecated and will be removed in a future version.\n",
            "Instructions for updating:\n",
            "This function will only be available through the v1 compatibility library as tf.compat.v1.saved_model.utils.build_tensor_info or tf.compat.v1.saved_model.build_tensor_info.\n"
          ],
          "name": "stderr"
        },
        {
          "output_type": "stream",
          "text": [
            "INFO:tensorflow:Assets added to graph.\n"
          ],
          "name": "stdout"
        },
        {
          "output_type": "stream",
          "text": [
            "INFO:tensorflow:Assets added to graph.\n"
          ],
          "name": "stderr"
        },
        {
          "output_type": "stream",
          "text": [
            "INFO:tensorflow:No assets to write.\n"
          ],
          "name": "stdout"
        },
        {
          "output_type": "stream",
          "text": [
            "INFO:tensorflow:No assets to write.\n"
          ],
          "name": "stderr"
        },
        {
          "output_type": "stream",
          "text": [
            "INFO:tensorflow:SavedModel written to: tmp/tftransform_tmp/60f511ce6d3d415c9f94fb9db1543888/saved_model.pb\n"
          ],
          "name": "stdout"
        },
        {
          "output_type": "stream",
          "text": [
            "INFO:tensorflow:SavedModel written to: tmp/tftransform_tmp/60f511ce6d3d415c9f94fb9db1543888/saved_model.pb\n",
            "WARNING:root:Couldn't find python-snappy so the implementation of _TFRecordUtil._masked_crc32c is not as fast as it could be.\n"
          ],
          "name": "stderr"
        },
        {
          "output_type": "stream",
          "text": [
            "CPU times: user 4min 27s, sys: 17.3 s, total: 4min 44s\n",
            "Wall time: 3min 58s\n",
            "Pipeline is done.\n"
          ],
          "name": "stdout"
        }
      ]
    },
    {
      "cell_type": "code",
      "metadata": {
        "id": "JAwOo7gQWvVd",
        "colab_type": "code",
        "outputId": "c1e25b6f-13b5-4ebd-f940-172a36ab4ef8",
        "colab": {
          "base_uri": "https://localhost:8080/",
          "height": 35
        }
      },
      "source": [
        "!ls {output_dir}"
      ],
      "execution_count": 0,
      "outputs": [
        {
          "output_type": "stream",
          "text": [
            "emb-00000-of-00001.tfrecords\n"
          ],
          "name": "stdout"
        }
      ]
    },
    {
      "cell_type": "markdown",
      "metadata": {
        "id": "HVnee4e6U90u",
        "colab_type": "text"
      },
      "source": [
        "Read some of the generated embeddings..."
      ]
    },
    {
      "cell_type": "code",
      "metadata": {
        "id": "-K7pGXlXOj1N",
        "colab_type": "code",
        "outputId": "22baf5c1-3114-4ac4-d023-ea9b017e55f7",
        "colab": {
          "base_uri": "https://localhost:8080/",
          "height": 454
        }
      },
      "source": [
        "embed_file = '{}/emb-00000-of-00001.tfrecords'.format(output_dir)\n",
        "sample = 5\n",
        "record_iterator =  tf.io.tf_record_iterator(path=embed_file)\n",
        "for string_record in record_iterator:\n",
        "  example = tf.train.Example()\n",
        "  example.ParseFromString(string_record)\n",
        "  text = example.features.feature['text'].bytes_list.value\n",
        "  embedding = np.array(example.features.feature['embedding'].float_list.value)\n",
        "  print(\"Embedding dimensions: {}\".format(embedding.shape[0]))\n",
        "  print(\"{}:{}\".format(text, embedding[:10]))\n",
        "  sample-=1\n",
        "  if sample == 0: break\n"
      ],
      "execution_count": 0,
      "outputs": [
        {
          "output_type": "stream",
          "text": [
            "WARNING:tensorflow:From <ipython-input-9-30e1a012f187>:3: tf_record_iterator (from tensorflow.python.lib.io.tf_record) is deprecated and will be removed in a future version.\n",
            "Instructions for updating:\n",
            "Use eager execution and: \n",
            "`tf.data.TFRecordDataset(path)`\n"
          ],
          "name": "stdout"
        },
        {
          "output_type": "stream",
          "text": [
            "WARNING:tensorflow:From <ipython-input-9-30e1a012f187>:3: tf_record_iterator (from tensorflow.python.lib.io.tf_record) is deprecated and will be removed in a future version.\n",
            "Instructions for updating:\n",
            "Use eager execution and: \n",
            "`tf.data.TFRecordDataset(path)`\n"
          ],
          "name": "stderr"
        },
        {
          "output_type": "stream",
          "text": [
            "Embedding dimensions: 128\n",
            "[b'headline_text']:[ 0.7299096   0.82932085  0.55692822 -0.5001204  -1.04153848  0.60820484\n",
            "  0.65177363 -0.27067748  0.15273833  0.8012833 ]\n",
            "Embedding dimensions: 128\n",
            "[b'aba decides against community broadcasting licence']:[ 0.01064706 -0.3083396  -0.01214939 -0.91801566  0.39616808  0.30477336\n",
            " -0.48459959  0.18867671 -0.3611635   0.53673756]\n",
            "Embedding dimensions: 128\n",
            "[b'act fire witnesses must be aware of defamation']:[ 0.23446536 -0.41275284  0.34584063 -0.81324148  0.02928767  0.75109184\n",
            " -1.0389266   0.49377581 -0.49257499  0.47597888]\n",
            "Embedding dimensions: 128\n",
            "[b'a g calls for infrastructure protection summit']:[ 0.06868215  0.02751701 -0.66759372 -0.59131128 -0.54670727  0.33901572\n",
            " -0.66903847  0.16438812 -1.0265044   0.57989764]\n",
            "Embedding dimensions: 128\n",
            "[b'air nz staff in aust strike for pay rise']:[-0.03368764 -0.22079813 -0.40127575  0.30999386  0.07844155  0.42006987\n",
            " -0.97262436  0.5886246  -0.9725759  -0.71267378]\n"
          ],
          "name": "stdout"
        }
      ]
    },
    {
      "cell_type": "markdown",
      "metadata": {
        "id": "agGoaMSgY8wN",
        "colab_type": "text"
      },
      "source": [
        "## 3. Build the ANN Index for the Embeddings"
      ]
    },
    {
      "cell_type": "code",
      "metadata": {
        "id": "UcPDspU3WjgH",
        "colab_type": "code",
        "colab": {}
      },
      "source": [
        "def build_index(\n",
        "    embedding_files_pattern, index_filename, vector_length, \n",
        "    metric='angular', num_trees=100):\n",
        "\n",
        "  annoy_index = annoy.AnnoyIndex(vector_length, metric=metric)\n",
        "  mapping = {}\n",
        "\n",
        "  embed_files = tf.gfile.Glob(embedding_files_pattern)\n",
        "  print('Found {} embedding file(s).'.format(len(embed_files)))\n",
        "\n",
        "  item_counter = 0\n",
        "  for f, embed_file in enumerate(embed_files):\n",
        "    print('Loading embeddings in file {} of {}...'.format(\n",
        "      f+1, len(embed_files)))\n",
        "    record_iterator = tf.io.tf_record_iterator(\n",
        "      path=embed_file)\n",
        "\n",
        "    for string_record in record_iterator:\n",
        "      example = tf.train.Example()\n",
        "      example.ParseFromString(string_record)\n",
        "      text = example.features.feature['text'].bytes_list.value[0].decode(\"utf-8\")\n",
        "      mapping[item_counter] = text\n",
        "      embedding = np.array(\n",
        "        example.features.feature['embedding'].float_list.value)\n",
        "      annoy_index.add_item(item_counter, embedding)\n",
        "      item_counter += 1\n",
        "      if item_counter % 200000 == 0:\n",
        "        print('{} items loaded to the index'.format(item_counter))\n",
        "\n",
        "    print('A total of {} items added to the index'.format(item_counter))\n",
        "\n",
        "  print('Building the index with {} trees...'.format(num_trees))\n",
        "  annoy_index.build(n_trees=num_trees)\n",
        "  print('Index is successfully built.')\n",
        "  \n",
        "  print('Saving index to disk...')\n",
        "  annoy_index.save(index_filename)\n",
        "  print('Index is saved to disk.')\n",
        "  print(\"Index file size: {} GB\".format(\n",
        "    round(os.path.getsize(index_filename) / float(1024 ** 3), 2)))\n",
        "  annoy_index.unload()\n",
        "\n",
        "  print('Saving mapping to disk...')\n",
        "  with open(index_filename + '.mapping', 'wb') as handle:\n",
        "    pickle.dump(mapping, handle, protocol=pickle.HIGHEST_PROTOCOL)\n",
        "  print('Mapping is saved to disk.')\n",
        "  print(\"Mapping file size: {} MB\".format(\n",
        "    round(os.path.getsize(index_filename + '.mapping') / float(1024 ** 2), 2)))"
      ],
      "execution_count": 0,
      "outputs": []
    },
    {
      "cell_type": "code",
      "metadata": {
        "id": "AgyOQhUq6FNE",
        "colab_type": "code",
        "outputId": "514db4a0-1747-4779-e8fc-747961e4bcf7",
        "colab": {
          "base_uri": "https://localhost:8080/",
          "height": 343
        }
      },
      "source": [
        "embedding_files = \"{}/emb-*.tfrecords\".format(output_dir)\n",
        "embedding_dimension = projected_dim\n",
        "index_filename = \"index\"\n",
        "\n",
        "!rm {index_filename}\n",
        "!rm {index_filename}.mapping\n",
        "\n",
        "%time build_index(embedding_files, index_filename, embedding_dimension)"
      ],
      "execution_count": 0,
      "outputs": [
        {
          "output_type": "stream",
          "text": [
            "Found 1 embedding file(s).\n",
            "Loading embeddings in file 1 of 1...\n",
            "200000 items loaded to the index\n",
            "400000 items loaded to the index\n",
            "600000 items loaded to the index\n",
            "800000 items loaded to the index\n",
            "1000000 items loaded to the index\n",
            "A total of 1103664 items added to the index\n",
            "Building the index with 100 trees...\n",
            "Index is successfully built.\n",
            "Saving index to disk...\n",
            "Index is saved to disk.\n",
            "Index file size: 2.03 GB\n",
            "Saving mapping to disk...\n",
            "Mapping is saved to disk.\n",
            "Mapping file size: 50.61 MB\n",
            "CPU times: user 12min 9s, sys: 7.41 s, total: 12min 16s\n",
            "Wall time: 12min 45s\n"
          ],
          "name": "stdout"
        }
      ]
    },
    {
      "cell_type": "code",
      "metadata": {
        "id": "Ic31Tm5cgAd5",
        "colab_type": "code",
        "outputId": "67579866-3d80-49b5-aed3-a3db820b581a",
        "colab": {
          "base_uri": "https://localhost:8080/",
          "height": 53
        }
      },
      "source": [
        "!ls"
      ],
      "execution_count": 0,
      "outputs": [
        {
          "output_type": "stream",
          "text": [
            "corpus\tindex\t       random_projection_matrix  sample       tmp\n",
            "embeds\tindex.mapping  raw.tsv\t\t\t sample_data\n"
          ],
          "name": "stdout"
        }
      ]
    },
    {
      "cell_type": "markdown",
      "metadata": {
        "id": "maGxDl8ufP-p",
        "colab_type": "text"
      },
      "source": [
        "## 4. Use the Index for Similarity Matching"
      ]
    },
    {
      "cell_type": "markdown",
      "metadata": {
        "id": "_dIs8W78fYPp",
        "colab_type": "text"
      },
      "source": [
        "### Load the index and the mapping files"
      ]
    },
    {
      "cell_type": "code",
      "metadata": {
        "id": "jlTTrbQHayvb",
        "colab_type": "code",
        "outputId": "07ea897e-05f6-490b-841d-17ab49a5d929",
        "colab": {
          "base_uri": "https://localhost:8080/",
          "height": 109
        }
      },
      "source": [
        "index = annoy.AnnoyIndex(embedding_dimension)\n",
        "index.load(index_filename, prefault=True)\n",
        "print('Annoy index is loaded.')\n",
        "with open(index_filename + '.mapping', 'rb') as handle:\n",
        "  mapping = pickle.load(handle)\n",
        "print('Mapping file is loaded.')\n"
      ],
      "execution_count": 0,
      "outputs": [
        {
          "output_type": "stream",
          "text": [
            "/usr/local/lib/python3.6/dist-packages/ipykernel_launcher.py:1: FutureWarning: The default argument for metric will be removed in future version of Annoy. Please pass metric='angular' explicitly.\n",
            "  \"\"\"Entry point for launching an IPython kernel.\n"
          ],
          "name": "stderr"
        },
        {
          "output_type": "stream",
          "text": [
            "Annoy index is loaded.\n",
            "Mapping file is loaded.\n"
          ],
          "name": "stdout"
        }
      ]
    },
    {
      "cell_type": "markdown",
      "metadata": {
        "id": "y6liFMSUh08J",
        "colab_type": "text"
      },
      "source": [
        "### Similarity matching method"
      ]
    },
    {
      "cell_type": "code",
      "metadata": {
        "id": "mUxjTag8hc16",
        "colab_type": "code",
        "colab": {}
      },
      "source": [
        "def find_similar_items(embedding, num_matches=5):\n",
        "  ids = index.get_nns_by_vector(\n",
        "  embedding, num_matches, search_k=-1, include_distances=False)\n",
        "  items = [mapping[i] for i in ids]\n",
        "  return items"
      ],
      "execution_count": 0,
      "outputs": []
    },
    {
      "cell_type": "markdown",
      "metadata": {
        "id": "hjerNpmZja0A",
        "colab_type": "text"
      },
      "source": [
        "### Extract embedding from a given query"
      ]
    },
    {
      "cell_type": "code",
      "metadata": {
        "id": "a0IIXzfBjZ19",
        "colab_type": "code",
        "outputId": "a5de417a-dfa2-4039-df02-f7866759e0f1",
        "colab": {
          "base_uri": "https://localhost:8080/",
          "height": 71
        }
      },
      "source": [
        "embed_module = hub.Module(module_url)\n",
        "placeholder = tf.placeholder(dtype=tf.string)\n",
        "embed = embed_module(placeholder)\n",
        "session = tf.Session()\n",
        "session.run([tf.global_variables_initializer(), tf.tables_initializer()])\n",
        "print('Tf-Hub module is loaded.')\n",
        "\n",
        "def _embeddings_fn(sentences):\n",
        "    computed_embeddings = session.run(\n",
        "        embed, feed_dict={placeholder: sentences})\n",
        "    return computed_embeddings\n",
        "\n",
        "embedding_fn = _embeddings_fn\n",
        "\n",
        "def extract_embeddings(query):\n",
        "  return embedding_fn([query])[0]"
      ],
      "execution_count": 0,
      "outputs": [
        {
          "output_type": "stream",
          "text": [
            "INFO:tensorflow:Saver not created because there are no variables in the graph to restore\n"
          ],
          "name": "stdout"
        },
        {
          "output_type": "stream",
          "text": [
            "INFO:tensorflow:Saver not created because there are no variables in the graph to restore\n"
          ],
          "name": "stderr"
        },
        {
          "output_type": "stream",
          "text": [
            "Tf-Hub module is loaded.\n"
          ],
          "name": "stdout"
        }
      ]
    },
    {
      "cell_type": "code",
      "metadata": {
        "id": "kCoCNROujEIO",
        "colab_type": "code",
        "outputId": "2673a155-80ab-4bb9-dffd-cf4a1501e77e",
        "colab": {
          "base_uri": "https://localhost:8080/",
          "height": 71
        }
      },
      "source": [
        "extract_embeddings(\"Hello Machine Learning!\")[:10]"
      ],
      "execution_count": 0,
      "outputs": [
        {
          "output_type": "execute_result",
          "data": {
            "text/plain": [
              "array([-0.02643181, -0.04425209, -0.0363341 ,  0.00761549, -0.03102973,\n",
              "       -0.06329978,  0.0234422 ,  0.03972385, -0.00340698,  0.05722774],\n",
              "      dtype=float32)"
            ]
          },
          "metadata": {
            "tags": []
          },
          "execution_count": 16
        }
      ]
    },
    {
      "cell_type": "markdown",
      "metadata": {
        "id": "nE_Q60nCk_ZB",
        "colab_type": "text"
      },
      "source": [
        "### Enter a query to find the most similar items"
      ]
    },
    {
      "cell_type": "code",
      "metadata": {
        "id": "TaQ0IRhukCRx",
        "colab_type": "code",
        "cellView": "form",
        "colab": {}
      },
      "source": [
        "query = \"confronting global challenges\" #@param {type:\"string\"}"
      ],
      "execution_count": 0,
      "outputs": []
    },
    {
      "cell_type": "code",
      "metadata": {
        "id": "wC0uLjvfk5nB",
        "colab_type": "code",
        "outputId": "5a482c53-46f3-457c-8448-5a27d764daca",
        "colab": {
          "base_uri": "https://localhost:8080/",
          "height": 415
        }
      },
      "source": [
        "random_projection_matrix = None\n",
        "if os.path.exists('random_projection_matrix'):\n",
        "  with open('random_projection_matrix', 'rb') as handle:\n",
        "    random_projection_matrix = pickle.load(handle)\n",
        "  print('random projection matrix is loaded.')\n",
        "\n",
        "print(\"\")\n",
        "print(\"Generating embedding for the query...\")\n",
        "%time query_embedding = extract_embeddings(query)\n",
        "\n",
        "if random_projection_matrix is not None:\n",
        "  query_embedding = query_embedding.dot(random_projection_matrix)\n",
        "\n",
        "print(\"\")\n",
        "print(\"Finding relevant items in the index...\")\n",
        "%time items = find_similar_items(query_embedding, 10)\n",
        "\n",
        "print(\"\")\n",
        "\n",
        "print(\"Results:\")\n",
        "print(\"=========\")\n",
        "for item in items:\n",
        "  print(item)"
      ],
      "execution_count": 0,
      "outputs": [
        {
          "output_type": "stream",
          "text": [
            "random projection matrix is loaded.\n",
            "\n",
            "Generating embedding for the query...\n",
            "CPU times: user 4.48 ms, sys: 43 µs, total: 4.53 ms\n",
            "Wall time: 5.09 ms\n",
            "\n",
            "Finding relevant items in the index...\n",
            "CPU times: user 1.1 ms, sys: 1 ms, total: 2.1 ms\n",
            "Wall time: 1.06 ms\n",
            "\n",
            "Results:\n",
            "=========\n",
            "confronting global challenges\n",
            "bluescope ponders global challenges\n",
            "hopes for mullewa official to solve social problems\n",
            "momentum against pacific leaders arguing for\n",
            "nff challenges social media interpretation of\n",
            "old wisdom unites to solve global dilemmas\n",
            "old wisdom unites to solve global dilemmas\n",
            "global credit uncertainty provides opportunity\n",
            "riverland adopts suicide prevention scheme\n",
            "the emerging global order\n"
          ],
          "name": "stdout"
        }
      ]
    },
    {
      "cell_type": "code",
      "metadata": {
        "id": "Ss9W2EBCx-0r",
        "colab_type": "code",
        "colab": {}
      },
      "source": [
        ""
      ],
      "execution_count": 0,
      "outputs": []
    }
  ]
}